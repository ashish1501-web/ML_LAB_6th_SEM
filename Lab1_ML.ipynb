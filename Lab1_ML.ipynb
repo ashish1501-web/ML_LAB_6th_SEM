{
  "metadata": {
    "colab": {
      "name": "Lab1_ML.ipynb",
      "provenance": [],
      "authorship_tag": "ABX9TyPoz6rMnQP/6MdjQjY64ugX",
      "include_colab_link": true
    },
    "kernelspec": {
      "name": "python",
      "display_name": "Python (Pyodide)",
      "language": "python"
    },
    "language_info": {
      "codemirror_mode": {
        "name": "python",
        "version": 3
      },
      "file_extension": ".py",
      "mimetype": "text/x-python",
      "name": "python",
      "nbconvert_exporter": "python",
      "pygments_lexer": "ipython3",
      "version": "3.8"
    }
  },
  "nbformat_minor": 4,
  "nbformat": 4,
  "cells": [
    {
      "cell_type": "markdown",
      "source": "<a href=\"https://colab.research.google.com/github/1BM18CS069/1BM18CS069-ML/blob/main/Lab1_ML.ipynb\" target=\"_parent\"><img src=\"https://colab.research.google.com/assets/colab-badge.svg\" alt=\"Open In Colab\"/></a>",
      "metadata": {
        "id": "view-in-github",
        "colab_type": "text"
      }
    },
    {
      "cell_type": "code",
      "source": "import numpy as np\nimport pandas as pd",
      "metadata": {
        "id": "I3ObzfqbK19y",
        "trusted": true
      },
      "execution_count": 2,
      "outputs": []
    },
    {
      "cell_type": "code",
      "source": "data = pd.read_csv(\"finddata.csv\")\nprint(data,\"\\n\")",
      "metadata": {
        "colab": {
          "base_uri": "https://localhost:8080/"
        },
        "id": "kpAYEEHFOItn",
        "outputId": "a0110d91-6cb9-4b37-901b-ed860ddde45e",
        "trusted": true
      },
      "execution_count": 4,
      "outputs": [
        {
          "name": "stdout",
          "text": "      Time Weather Temperature Company Humidity    Wind Goes\n0  Morning   Sunny        Warm     Yes     Mild  Strong  Yes\n1  Evening   Rainy        Cold      No     Mild  Normal   No\n2  Morning   Sunny    Moderate     Yes   Normal  Normal  Yes\n3  Evening   Sunny        Cold     Yes     High  Strong  Yes \n\n",
          "output_type": "stream"
        }
      ]
    },
    {
      "cell_type": "code",
      "source": "d = np.array(data)[:],:-1\nprint(\"\\n The attributes are: \",d)\ntarget = np.array(data)[:,-1]\nprint(\"\\n The target is: \",target)",
      "metadata": {
        "colab": {
          "base_uri": "https://localhost:8080/"
        },
        "id": "v0E-FOcUOkXQ",
        "outputId": "7adc9714-a140-4ad3-8e0e-53123ab7d14c",
        "trusted": true
      },
      "execution_count": 5,
      "outputs": [
        {
          "name": "stdout",
          "text": "\n The attributes are:  [['Morning' 'Sunny' 'Warm' 'Yes' 'Mild' 'Strong']\n ['Evening' 'Rainy' 'Cold' 'No' 'Mild' 'Normal']\n ['Morning' 'Sunny' 'Moderate' 'Yes' 'Normal' 'Normal']\n ['Evening' 'Sunny' 'Cold' 'Yes' 'High' 'Strong']]\n\n The target is:  ['Yes' 'No' 'Yes' 'Yes']\n",
          "output_type": "stream"
        }
      ]
    },
    {
      "cell_type": "code",
      "source": "def findS(c,t):\n    for i, val in enumerate(t):\n        if val == \"Yes\":\n            specific_hypothesis = c[i].copy()\n            break\n             \n    for i, val in enumerate(c):\n        if t[i] == \"Yes\":\n            for x in range(len(specific_hypothesis)):\n                if val[x] != specific_hypothesis[x]:\n                    specific_hypothesis[x] = '?'\n                else:\n                    continue\n            print(i,specific_hypothesis)\n    return specific_hypothesis\n \nprint(\"\\n The final hypothesis is:\",findS(d,target))",
      "metadata": {
        "colab": {
          "base_uri": "https://localhost:8080/"
        },
        "id": "k4g_cAH8OrGe",
        "outputId": "34d46c4f-058e-4384-8bc6-8a0ac7bffd34",
        "trusted": true
      },
      "execution_count": 15,
      "outputs": [
        {
          "name": "stdout",
          "text": "0 ['Morning' 'Sunny' 'Warm' 'Yes' 'Mild' 'Strong']\n2 ['Morning' 'Sunny' '?' 'Yes' '?' '?']\n3 ['?' 'Sunny' '?' 'Yes' '?' '?']\n\n The final hypothesis is: ['?' 'Sunny' '?' 'Yes' '?' '?']\n",
          "output_type": "stream"
        }
      ]
    }
  ]
}